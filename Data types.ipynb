{
 "cells": [
  {
   "cell_type": "code",
   "execution_count": 2,
   "metadata": {},
   "outputs": [
    {
     "name": "stdout",
     "output_type": "stream",
     "text": [
      "X value:- 89635\n",
      "<class 'int'>\n",
      "a value:- 979\n"
     ]
    }
   ],
   "source": [
    "# Data Types\n",
    "\n",
    "#Integers\n",
    "x=89635\n",
    "print(\"X value:-\",x)\n",
    "print(type(x))\n",
    "\n",
    "a=979\n",
    "print(\"a value:-\",a)"
   ]
  },
  {
   "cell_type": "code",
   "execution_count": 3,
   "metadata": {},
   "outputs": [
    {
     "name": "stdout",
     "output_type": "stream",
     "text": [
      "f value:- 5873.24\n",
      "<class 'float'>\n",
      "l value:- 42.78\n"
     ]
    }
   ],
   "source": [
    "#float\n",
    "\n",
    "f=5873.24\n",
    "print(\"f value:-\",f)\n",
    "print(type(f))\n",
    "\n",
    "l=42.78\n",
    "print(\"l value:-\",l)"
   ]
  },
  {
   "cell_type": "code",
   "execution_count": 5,
   "metadata": {},
   "outputs": [
    {
     "name": "stdout",
     "output_type": "stream",
     "text": [
      "k value:- 7657j\n",
      "<class 'complex'>\n",
      "t value:- 46324j\n"
     ]
    }
   ],
   "source": [
    "#complex\n",
    "\n",
    "k=7657j\n",
    "print(\"k value:-\",k)\n",
    "print(type(k))\n",
    "\n",
    "t=46324j\n",
    "print(\"t value:-\",t)"
   ]
  },
  {
   "cell_type": "code",
   "execution_count": 6,
   "metadata": {},
   "outputs": [
    {
     "name": "stdout",
     "output_type": "stream",
     "text": [
      "False\n",
      "<class 'bool'>\n",
      "True\n"
     ]
    }
   ],
   "source": [
    "#boolean\n",
    "\n",
    "s=21\n",
    "j=7\n",
    "n=s<=j\n",
    "print(n)\n",
    "print(type(n))\n",
    "\n",
    "num=10>9\n",
    "print(num)"
   ]
  },
  {
   "cell_type": "code",
   "execution_count": 7,
   "metadata": {},
   "outputs": [
    {
     "name": "stdout",
     "output_type": "stream",
     "text": [
      "<class 'str'>\n",
      "Length:- 5\n",
      "Upper_case:- NAVYA\n",
      "Lower_case:- navya\n",
      "Slicing:- Python is \n",
      "n is  programming language\n",
      "Python is  p\n",
      "Python is  programming language\n",
      "Pto s rg\n",
      "egaugnal gnimmargorp  si nohtyP\n",
      "Navya\n",
      "3\n",
      "3\n",
      "2\n",
      "True\n",
      "True\n",
      "False\n",
      "True\n",
      "False\n",
      "navya\n",
      "navya\n",
      "False\n",
      "False\n",
      "['navya']\n",
      "navya orthodox\n",
      "navyanavyanavya\n",
      "navyaorthodoxorthodox\n",
      "Python is a programming language\n",
      "Python is a programming language\n",
      "Python is a programming language\n",
      "Python is a programming language\n"
     ]
    }
   ],
   "source": [
    "#String\n",
    "\n",
    "name=\"navya\"\n",
    "print(type(name))\n",
    "print(\"Length:-\",len(name))\n",
    "print(\"Upper_case:-\",name.upper())\n",
    "print(\"Lower_case:-\",name.lower())\n",
    "\n",
    "#Slicing:-To get a range of characters\n",
    "k=\"Python is  programming language\"\n",
    "print(\"Slicing:-\",k[0:10]) #from 0 index to 10th index\n",
    "print(k[5:])#we get whole string from 5th index\n",
    "print(k[:12])#we get the output from 0 to the end point\n",
    "print(k[ : ])#we get the whole string\n",
    "print(k[0:15:2])#we get the output from 0 to 15 index and skips 2 indexs\n",
    "print(k[: :-1])#Reversing a string\n",
    "print(name.capitalize())#capitalize the first char in string\n",
    "print(k.count('a'))#count of the specified value\n",
    "print(name.find('y'))#finds index of the specified value\n",
    "print(k.index('t'))#index number of the specified value\n",
    "print(name.isalnum())\n",
    "print(name.isalpha())\n",
    "print(name.isdecimal())\n",
    "print(name.islower())\n",
    "print(name.isupper())\n",
    "print(name.replace('u','h' ))\n",
    "print(name.strip())\n",
    "print(name.startswith('h'))\n",
    "print(name.endswith('v'))\n",
    "print(name.split())\n",
    "\n",
    "\n",
    "#String Operations\n",
    "\n",
    "a=\"navya\"\n",
    "b=\"orthodox\"\n",
    "print(a+\" \"+b)\n",
    "print(a*3)\n",
    "print(a+b*2)\n",
    "\n",
    "\n",
    "#String Interpolation\n",
    "\n",
    "k=\"Python\"\n",
    "p=\"programming\"\n",
    "\n",
    "c='%s is a %s language'%(k,p)\n",
    "print(c)\n",
    "\n",
    "x=f'{k} is a {p} language'\n",
    "print(x)\n",
    "\n",
    "z='{k} is a {p} language'.format(k=k,p=p)\n",
    "print(z)\n",
    "\n",
    "from string import Template\n",
    "h=Template('$k is a $p language')\n",
    "print(h.substitute(k=k,p=p))\n",
    "\n",
    "\n",
    "\n",
    "\n",
    "\n"
   ]
  },
  {
   "cell_type": "code",
   "execution_count": 8,
   "metadata": {},
   "outputs": [
    {
     "name": "stdout",
     "output_type": "stream",
     "text": [
      "[563, 'orthodox', 'work-holic', 23543, 'navya', 765, 'AIT', 87.54j]\n",
      "['orthodox', 'work-holic', 23543]\n",
      "[563, 'Python programming', 'work-holic', 23543, 'navya', 765, 'AIT', 87.54j]\n",
      "[563, 'Python programming', 'work-holic', 23543, 'navya', 765, 'AIT', 87.54j, 'complex']\n",
      "[563, 'Python programming', 'work-holic', 23543, 'programming', 'navya', 765, 'AIT', 87.54j, 'complex']\n",
      "['complex', 87.54j, 'AIT', 765, 'navya', 'programming', 23543, 'work-holic', 'Python programming', 563]\n"
     ]
    }
   ],
   "source": [
    "#List DataType\n",
    "\n",
    "mylist=[563,'orthodox','work-holic',23543,'navya',765,'AIT',87.54j]\n",
    "print(mylist)\n",
    "print(mylist[1:4])\n",
    "mylist[1]='Python programming' #replacing value\n",
    "print(mylist)\n",
    "mylist.append('complex')\n",
    "print(mylist)\n",
    "mylist.insert(4,'programming')\n",
    "print(mylist)\n",
    "mylist.reverse()\n",
    "print(mylist)"
   ]
  },
  {
   "cell_type": "code",
   "execution_count": 9,
   "metadata": {},
   "outputs": [
    {
     "name": "stdout",
     "output_type": "stream",
     "text": [
      "{1: 'C', 2: 'C++', 3: 'Java', 4: 'Python', 5: 'SQL', 6: 'Data Science'}\n",
      "SQL\n",
      "C++\n",
      "{1: 'C', 2: 'C++', 3: 'Java', 4: 'Python', 5: 'SQL', 6: 'Data Analyst'}\n",
      "Python\n"
     ]
    }
   ],
   "source": [
    "#Dictionary DataType\n",
    "\n",
    "Courses={1:'C',2:'C++',3:'Java',4:'Python',5:'SQL',6:'Data Science'}\n",
    "print(Courses)\n",
    "print(Courses[5])\n",
    "print(Courses.get(2))\n",
    "Courses[6]='Data Analyst' #replacing or updating\n",
    "print(Courses)\n",
    "print(Courses[4])"
   ]
  },
  {
   "cell_type": "code",
   "execution_count": 11,
   "metadata": {},
   "outputs": [
    {
     "name": "stdout",
     "output_type": "stream",
     "text": [
      "('ludo', 'tryp rush', 'shuttle', 'cricket', 'car games')\n",
      "0\n",
      "cricket\n"
     ]
    }
   ],
   "source": [
    "#Tuple DataType\n",
    "\n",
    "games=('ludo','tryp rush','shuttle','cricket','car games',)\n",
    "print(games)\n",
    "print(games.count('khaleja'))\n",
    "print(games[3])\n"
   ]
  },
  {
   "cell_type": "code",
   "execution_count": 12,
   "metadata": {},
   "outputs": [
    {
     "name": "stdout",
     "output_type": "stream",
     "text": [
      "{'orthodox', 'manusha', 13, 564, 54, 'sindhu', 'navya', 475}\n"
     ]
    }
   ],
   "source": [
    "##Set Data-Type\n",
    "\n",
    "myset={564,13,'navya','manusha','sindhu','orthodox',54,475}\n",
    "print(myset)\n",
    "\n"
   ]
  },
  {
   "cell_type": "code",
   "execution_count": 14,
   "metadata": {},
   "outputs": [
    {
     "name": "stdout",
     "output_type": "stream",
     "text": [
      "[0, 1, 2, 3, 4, 5, 6, 7, 8, 9, 10, 11, 12, 13, 14, 15, 16, 17, 18, 19, 20, 21, 22, 23, 24, 25, 26, 27, 28, 29, 30, 31, 32, 33, 34, 35, 36, 37, 38, 39, 40, 41, 42, 43, 44, 45, 46, 47, 48, 49, 50]\n",
      "[[6757, 34245, 8545, 964], {5665, 674, 723, 3214}]\n"
     ]
    }
   ],
   "source": [
    "#Range DataType\n",
    "\n",
    "range(0,50)\n",
    "print(list(range(51)))\n",
    "\n",
    "a=[6757,34245,8545,964]\n",
    "b={3214,674,723,5665}\n",
    "c=[a,b]\n",
    "print(c)"
   ]
  }
 ],
 "metadata": {
  "kernelspec": {
   "display_name": "Python 3",
   "language": "python",
   "name": "python3"
  },
  "language_info": {
   "codemirror_mode": {
    "name": "ipython",
    "version": 3
   },
   "file_extension": ".py",
   "mimetype": "text/x-python",
   "name": "python",
   "nbconvert_exporter": "python",
   "pygments_lexer": "ipython3",
   "version": "3.7.4"
  }
 },
 "nbformat": 4,
 "nbformat_minor": 2
}
